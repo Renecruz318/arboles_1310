{
  "nbformat": 4,
  "nbformat_minor": 0,
  "metadata": {
    "colab": {
      "name": "arboles_1310.ipynb",
      "provenance": [],
      "authorship_tag": "ABX9TyMh3iEbnBh7wSUZKE09tmfn",
      "include_colab_link": true
    },
    "kernelspec": {
      "name": "python3",
      "display_name": "Python 3"
    },
    "language_info": {
      "name": "python"
    }
  },
  "cells": [
    {
      "cell_type": "markdown",
      "metadata": {
        "id": "view-in-github",
        "colab_type": "text"
      },
      "source": [
        "<a href=\"https://colab.research.google.com/github/Renecruz318/arboles_1310/blob/main/arboles_1310.ipynb\" target=\"_parent\"><img src=\"https://colab.research.google.com/assets/colab-badge.svg\" alt=\"Open In Colab\"/></a>"
      ]
    },
    {
      "cell_type": "code",
      "metadata": {
        "id": "sN7DK3rjCSWv"
      },
      "source": [
        "class NodoBinario:\n",
        "    def __init__( self, value, left=None, rigth=None ):\n",
        "        self.data = value\n",
        "        self.left = left\n",
        "        self.rigth = rigth\n",
        "\n",
        "class NodoTernario:\n",
        "    def __init__( self, value, left=None, center=None, rigth=None ):\n",
        "        self.data = value\n",
        "        self.left = left\n",
        "        self.center = center\n",
        "        self.rigth = rigth"
      ],
      "execution_count": 1,
      "outputs": []
    },
    {
      "cell_type": "code",
      "metadata": {
        "colab": {
          "base_uri": "https://localhost:8080/"
        },
        "id": "AyOitXaqCN6W",
        "outputId": "f6b976fe-04d5-4ce6-e9cf-c4e3826af9aa"
      },
      "source": [
        "arbol1 = NodoBinario(\"R\", NodoBinario(\"C\"), NodoBinario(\"H\"))\n",
        "print(arbol1.rigth.data)\n",
        "\n",
        "arbol2 = NodoTernario(4, NodoTernario(3,NodoTernario(5,left=NodoTernario(2)),NodoTernario(5), NodoTernario(2)), None, NodoTernario(5) )\n",
        "print(arbol2.left.rigth.data)\n",
        "print(arbol2.data)\n",
        "print(arbol2.left.center.data)\n",
        "print(arbol2.rigth.left)"
      ],
      "execution_count": 2,
      "outputs": [
        {
          "output_type": "stream",
          "name": "stdout",
          "text": [
            "H\n",
            "2\n",
            "4\n",
            "5\n",
            "None\n"
          ]
        }
      ]
    },
    {
      "cell_type": "code",
      "metadata": {
        "colab": {
          "base_uri": "https://localhost:8080/"
        },
        "id": "M3-_4FTcHQ_G",
        "outputId": "c45919ec-54f1-4364-aab4-ea19e438ba1e"
      },
      "source": [
        "root = NodoBinario(\"Santi\",None,NodoBinario(\"Jesus\",NodoBinario(\"Pedro\", None, NodoBinario(\"Pedro jr\"))))\n",
        "print(root.rigth.left.rigth.data)"
      ],
      "execution_count": 4,
      "outputs": [
        {
          "output_type": "stream",
          "name": "stdout",
          "text": [
            "Pedro jr\n"
          ]
        }
      ]
    }
  ]
}